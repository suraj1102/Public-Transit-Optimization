{
 "cells": [
  {
   "cell_type": "code",
   "execution_count": 9,
   "metadata": {},
   "outputs": [],
   "source": [
    "import pandas as pd\n",
    "import matplotlib.pyplot as plt\n",
    "import numpy as np\n",
    "import ast\n",
    "import json"
   ]
  },
  {
   "cell_type": "code",
   "execution_count": 10,
   "metadata": {},
   "outputs": [],
   "source": [
    "def extract_clean_data(request_entry):\n",
    "    try:\n",
    "        # Convert string representation of list to actual list\n",
    "        request_list = ast.literal_eval(request_entry)\n",
    "        \n",
    "        # Extract the body field containing JSON data\n",
    "        body_content = request_list[0][\"body\"][\"body\"]\n",
    "        \n",
    "        # Convert to a JSON object\n",
    "        body_dict = json.loads(body_content)\n",
    "        \n",
    "        # Extract and parse the \"data\" field\n",
    "        clean_data = json.loads(body_dict[\"data\"])\n",
    "        \n",
    "        return clean_data\n",
    "    \n",
    "    except (SyntaxError, ValueError, KeyError, IndexError):\n",
    "        return None\n",
    "\n",
    "def is_valid_bus_stop(cleaned_data):\n",
    "    if not cleaned_data:\n",
    "        return None\n",
    "    \n",
    "    if float(cleaned_data[0]['distance']) <= 0.0:\n",
    "        return True\n",
    "    \n",
    "    return None"
   ]
  },
  {
   "cell_type": "code",
   "execution_count": 11,
   "metadata": {},
   "outputs": [
    {
     "data": {
      "text/html": [
       "<div>\n",
       "<style scoped>\n",
       "    .dataframe tbody tr th:only-of-type {\n",
       "        vertical-align: middle;\n",
       "    }\n",
       "\n",
       "    .dataframe tbody tr th {\n",
       "        vertical-align: top;\n",
       "    }\n",
       "\n",
       "    .dataframe thead th {\n",
       "        text-align: right;\n",
       "    }\n",
       "</style>\n",
       "<table border=\"1\" class=\"dataframe\">\n",
       "  <thead>\n",
       "    <tr style=\"text-align: right;\">\n",
       "      <th></th>\n",
       "      <th>Name</th>\n",
       "      <th>Request</th>\n",
       "    </tr>\n",
       "  </thead>\n",
       "  <tbody>\n",
       "    <tr>\n",
       "      <th>0</th>\n",
       "      <td>10/16 ART GALLERY</td>\n",
       "      <td>[{'url': 'https://ctumobileapi.amnex.com/Searc...</td>\n",
       "    </tr>\n",
       "    <tr>\n",
       "      <th>1</th>\n",
       "      <td>12/11 (Rally Chowk)</td>\n",
       "      <td>[{'url': 'https://ctumobileapi.amnex.com/Searc...</td>\n",
       "    </tr>\n",
       "    <tr>\n",
       "      <th>2</th>\n",
       "      <td>16/10 ROSE GARDEN</td>\n",
       "      <td>[{'url': 'https://ctumobileapi.amnex.com/Searc...</td>\n",
       "    </tr>\n",
       "    <tr>\n",
       "      <th>3</th>\n",
       "      <td>17 chowk</td>\n",
       "      <td>[{'url': 'https://ctumobileapi.amnex.com/Searc...</td>\n",
       "    </tr>\n",
       "    <tr>\n",
       "      <th>4</th>\n",
       "      <td>39 Grain Market</td>\n",
       "      <td>[{'url': 'https://ctumobileapi.amnex.com/Searc...</td>\n",
       "    </tr>\n",
       "  </tbody>\n",
       "</table>\n",
       "</div>"
      ],
      "text/plain": [
       "                  Name                                            Request\n",
       "0    10/16 ART GALLERY  [{'url': 'https://ctumobileapi.amnex.com/Searc...\n",
       "1  12/11 (Rally Chowk)  [{'url': 'https://ctumobileapi.amnex.com/Searc...\n",
       "2    16/10 ROSE GARDEN  [{'url': 'https://ctumobileapi.amnex.com/Searc...\n",
       "3             17 chowk  [{'url': 'https://ctumobileapi.amnex.com/Searc...\n",
       "4      39 Grain Market  [{'url': 'https://ctumobileapi.amnex.com/Searc..."
      ]
     },
     "execution_count": 11,
     "metadata": {},
     "output_type": "execute_result"
    }
   ],
   "source": [
    "file_path = \"/Users/suraj/Library/CloudStorage/OneDrive-PlakshaUniversity/Classes/Sem4/ILGC04/ILGC04_Code/scarping_scripts/scarped_data/raw_request.csv\"\n",
    "df = pd.read_csv(file_path)\n",
    "df.head()"
   ]
  },
  {
   "cell_type": "code",
   "execution_count": 12,
   "metadata": {},
   "outputs": [
    {
     "name": "stdout",
     "output_type": "stream",
     "text": [
      "                  Name                                       Cleaned_Data\n",
      "0    10/16 ART GALLERY  [{'rowno': 1, 'routeid': 5470, 'stationid': 60...\n",
      "1  12/11 (Rally Chowk)  [{'rowno': 1, 'routeid': 5570, 'stationid': 11...\n",
      "2    16/10 ROSE GARDEN  [{'rowno': 1, 'routeid': 5472, 'stationid': 60...\n",
      "3             17 chowk  [{'rowno': 1, 'routeid': 6999, 'stationid': 61...\n",
      "4      39 Grain Market  [{'rowno': 1, 'routeid': 5470, 'stationid': 71...\n"
     ]
    }
   ],
   "source": [
    "# Apply extraction function to each row\n",
    "df[\"Cleaned_Data\"] = df[\"Request\"].apply(extract_clean_data)\n",
    "print(df[[\"Name\", \"Cleaned_Data\"]].head())"
   ]
  },
  {
   "cell_type": "code",
   "execution_count": 13,
   "metadata": {},
   "outputs": [
    {
     "data": {
      "text/plain": [
       "[{'rowno': 1,\n",
       "  'routeid': 5470,\n",
       "  'stationid': 605,\n",
       "  'stationname': '10/16  ART GALLERY',\n",
       "  'stationname_m': '10/16  ART GALLERY',\n",
       "  'center_lat': 30.74824,\n",
       "  'center_lon': 76.78451,\n",
       "  'routenames': 'Towards ISBT 43',\n",
       "  'routenames_m': 'Towards आई.एस.बी.टी. 43',\n",
       "  'routeno': '4C',\n",
       "  'distance': '0.00',\n",
       "  'totalminute': '0',\n",
       "  'combinestationroute': '10/16  ART GALLERY  : Towards ISBT 43',\n",
       "  'totalstops': '10'},\n",
       " {'rowno': 2,\n",
       "  'routeid': 5472,\n",
       "  'stationid': 604,\n",
       "  'stationname': '16/10  ROSE GARDEN',\n",
       "  'stationname_m': '16/10 रोज़ गार्डन',\n",
       "  'center_lat': 30.74819,\n",
       "  'center_lon': 76.78425,\n",
       "  'routenames': 'Towards Ram Darbar',\n",
       "  'routenames_m': 'Towards राम दरबार',\n",
       "  'routeno': '5A',\n",
       "  'distance': '0.03',\n",
       "  'totalminute': '0',\n",
       "  'combinestationroute': '16/10  ROSE GARDEN  : Towards Ram Darbar',\n",
       "  'totalstops': '10'},\n",
       " {'rowno': 3,\n",
       "  'routeid': 5469,\n",
       "  'stationid': 674,\n",
       "  'stationname': 'Sector 17/16 near Matka Chowk',\n",
       "  'stationname_m': 'सैक्टर 17/16',\n",
       "  'center_lat': 30.7458,\n",
       "  'center_lon': 76.78462,\n",
       "  'routenames': 'Towards ISBT 43',\n",
       "  'routenames_m': 'Towards आई.एस.बी.टी. 43',\n",
       "  'routeno': '202',\n",
       "  'distance': '0.27',\n",
       "  'totalminute': '3',\n",
       "  'combinestationroute': 'Sector 17/16 near Matka Chowk : Towards ISBT 43',\n",
       "  'totalstops': '10'},\n",
       " {'rowno': 4,\n",
       "  'routeid': 5586,\n",
       "  'stationid': 677,\n",
       "  'stationname': 'Sector 10/09 near Matka Chowk',\n",
       "  'stationname_m': 'सेक्टर 10/09',\n",
       "  'center_lat': 30.74782,\n",
       "  'center_lon': 76.7874,\n",
       "  'routenames': 'Towards Kaimbwala 2',\n",
       "  'routenames_m': 'Towards कैंबवाला 2',\n",
       "  'routeno': '18',\n",
       "  'distance': '0.28',\n",
       "  'totalminute': '3',\n",
       "  'combinestationroute': 'Sector 10/09 near Matka Chowk : Towards Kaimbwala 2',\n",
       "  'totalstops': '10'},\n",
       " {'rowno': 5,\n",
       "  'routeid': 5468,\n",
       "  'stationid': 712,\n",
       "  'stationname': 'Sector 16/17 near Matka Chowk',\n",
       "  'stationname_m': 'सेक्टर 16/17 मटका चौक के पास',\n",
       "  'center_lat': 30.7456,\n",
       "  'center_lon': 76.78395,\n",
       "  'routenames': 'Towards Punjab Civil Secratariat',\n",
       "  'routenames_m': 'Towards पंजाब सिविल सचिवालय',\n",
       "  'routeno': '202',\n",
       "  'distance': '0.30',\n",
       "  'totalminute': '4',\n",
       "  'combinestationroute': 'Sector 16/17 near Matka Chowk : Towards Punjab Civil Secratariat',\n",
       "  'totalstops': '10'},\n",
       " {'rowno': 6,\n",
       "  'routeid': 5473,\n",
       "  'stationid': 990,\n",
       "  'stationname': 'Sector 9D/17',\n",
       "  'stationname_m': 'सेक्टर 9डी/17',\n",
       "  'center_lat': 30.74545,\n",
       "  'center_lon': 76.78683,\n",
       "  'routenames': 'Towards Ram Darbar',\n",
       "  'routenames_m': 'Towards राम दरबार',\n",
       "  'routeno': '5C',\n",
       "  'distance': '0.38',\n",
       "  'totalminute': '5',\n",
       "  'combinestationroute': 'Sector 9D/17 : Towards Ram Darbar',\n",
       "  'totalstops': '10'},\n",
       " {'rowno': 7,\n",
       "  'routeid': 5472,\n",
       "  'stationid': 68,\n",
       "  'stationname': 'Sector 16/10 General Hospital',\n",
       "  'stationname_m': 'सेक्टर 16/10 जनरल हॉस्पिटल',\n",
       "  'center_lat': 30.75143,\n",
       "  'center_lon': 76.7816,\n",
       "  'routenames': 'Towards Ram Darbar',\n",
       "  'routenames_m': 'Towards राम दरबार',\n",
       "  'routeno': '5A',\n",
       "  'distance': '0.45',\n",
       "  'totalminute': '5',\n",
       "  'combinestationroute': 'Sector 16/10 General Hospital : Towards Ram Darbar',\n",
       "  'totalstops': '10'},\n",
       " {'rowno': 8,\n",
       "  'routeid': 5470,\n",
       "  'stationid': 54,\n",
       "  'stationname': 'Sector 10/16 General Hospital',\n",
       "  'stationname_m': 'सैक्टर 10/16 जनरल हॉस्पिटल',\n",
       "  'center_lat': 30.75156,\n",
       "  'center_lon': 76.78185,\n",
       "  'routenames': 'Towards ISBT 43',\n",
       "  'routenames_m': 'Towards आई.एस.बी.टी. 43',\n",
       "  'routeno': '4C',\n",
       "  'distance': '0.45',\n",
       "  'totalminute': '5',\n",
       "  'combinestationroute': 'Sector 10/16 General Hospital : Towards ISBT 43',\n",
       "  'totalstops': '10'},\n",
       " {'rowno': 9,\n",
       "  'routeid': 5469,\n",
       "  'stationid': 177,\n",
       "  'stationname': 'UT Secretariat Towards ISBT 43',\n",
       "  'stationname_m': 'यू.टी. सचिवालय आई.एस.बी.टी 43 की ओर',\n",
       "  'center_lat': 30.74913,\n",
       "  'center_lon': 76.78968,\n",
       "  'routenames': 'Towards ISBT 43',\n",
       "  'routenames_m': 'Towards आई.एस.बी.टी. 43',\n",
       "  'routeno': '202',\n",
       "  'distance': '0.50',\n",
       "  'totalminute': '6',\n",
       "  'combinestationroute': 'UT Secretariat Towards ISBT 43 : Towards ISBT 43',\n",
       "  'totalstops': '10'},\n",
       " {'rowno': 10,\n",
       "  'routeid': 5926,\n",
       "  'stationid': 187,\n",
       "  'stationname': 'Sector 9/17',\n",
       "  'stationname_m': 'सैक्टर 9/17',\n",
       "  'center_lat': 30.74442,\n",
       "  'center_lon': 76.78766,\n",
       "  'routenames': 'Towards Dera Bassi',\n",
       "  'routenames_m': 'Towards डेरा बस्सी',\n",
       "  'routeno': '529',\n",
       "  'distance': '0.52',\n",
       "  'totalminute': '6',\n",
       "  'combinestationroute': 'Sector 9/17 : Towards Dera Bassi',\n",
       "  'totalstops': '10'}]"
      ]
     },
     "execution_count": 13,
     "metadata": {},
     "output_type": "execute_result"
    }
   ],
   "source": [
    "df[\"Cleaned_Data\"].iloc[0]"
   ]
  },
  {
   "cell_type": "code",
   "execution_count": 14,
   "metadata": {},
   "outputs": [
    {
     "data": {
      "text/plain": [
       "732"
      ]
     },
     "execution_count": 14,
     "metadata": {},
     "output_type": "execute_result"
    }
   ],
   "source": [
    "df[\"Is_Valid_Stop\"] = df[\"Cleaned_Data\"].apply(is_valid_bus_stop)\n",
    "df[\"Is_Valid_Stop\"].isnull().sum()"
   ]
  },
  {
   "cell_type": "code",
   "execution_count": 15,
   "metadata": {},
   "outputs": [
    {
     "data": {
      "text/plain": [
       "(864, 4)"
      ]
     },
     "execution_count": 15,
     "metadata": {},
     "output_type": "execute_result"
    }
   ],
   "source": [
    "df.shape"
   ]
  },
  {
   "cell_type": "code",
   "execution_count": 16,
   "metadata": {},
   "outputs": [
    {
     "data": {
      "text/plain": [
       "732"
      ]
     },
     "execution_count": 16,
     "metadata": {},
     "output_type": "execute_result"
    }
   ],
   "source": [
    "not_bus_stop_counter = 0\n",
    "\n",
    "for i in range(len(df[\"Cleaned_Data\"])):\n",
    "    try:\n",
    "        dist = float(df[\"Cleaned_Data\"].iloc[i][0]['distance'])\n",
    "        if dist != 0:\n",
    "            not_bus_stop_counter += 1\n",
    "    except:\n",
    "        not_bus_stop_counter += 1\n",
    "\n",
    "not_bus_stop_counter"
   ]
  },
  {
   "cell_type": "code",
   "execution_count": 17,
   "metadata": {},
   "outputs": [
    {
     "data": {
      "text/html": [
       "<div>\n",
       "<style scoped>\n",
       "    .dataframe tbody tr th:only-of-type {\n",
       "        vertical-align: middle;\n",
       "    }\n",
       "\n",
       "    .dataframe tbody tr th {\n",
       "        vertical-align: top;\n",
       "    }\n",
       "\n",
       "    .dataframe thead th {\n",
       "        text-align: right;\n",
       "    }\n",
       "</style>\n",
       "<table border=\"1\" class=\"dataframe\">\n",
       "  <thead>\n",
       "    <tr style=\"text-align: right;\">\n",
       "      <th></th>\n",
       "      <th>Name</th>\n",
       "      <th>Nearest_Distance</th>\n",
       "    </tr>\n",
       "  </thead>\n",
       "  <tbody>\n",
       "    <tr>\n",
       "      <th>0</th>\n",
       "      <td>10/16 ART GALLERY</td>\n",
       "      <td>0.00</td>\n",
       "    </tr>\n",
       "    <tr>\n",
       "      <th>1</th>\n",
       "      <td>12/11 (Rally Chowk)</td>\n",
       "      <td>0.00</td>\n",
       "    </tr>\n",
       "    <tr>\n",
       "      <th>2</th>\n",
       "      <td>16/10 ROSE GARDEN</td>\n",
       "      <td>0.00</td>\n",
       "    </tr>\n",
       "    <tr>\n",
       "      <th>3</th>\n",
       "      <td>17 chowk</td>\n",
       "      <td>0.00</td>\n",
       "    </tr>\n",
       "    <tr>\n",
       "      <th>4</th>\n",
       "      <td>39 Grain Market</td>\n",
       "      <td>0.00</td>\n",
       "    </tr>\n",
       "    <tr>\n",
       "      <th>...</th>\n",
       "      <td>...</td>\n",
       "      <td>...</td>\n",
       "    </tr>\n",
       "    <tr>\n",
       "      <th>859</th>\n",
       "      <td>YPS/Sector 61/52</td>\n",
       "      <td>1.47</td>\n",
       "    </tr>\n",
       "    <tr>\n",
       "      <th>860</th>\n",
       "      <td>Zirakpur Bus Stand</td>\n",
       "      <td>3.61</td>\n",
       "    </tr>\n",
       "    <tr>\n",
       "      <th>861</th>\n",
       "      <td>Zirakpur (Down)</td>\n",
       "      <td>3.55</td>\n",
       "    </tr>\n",
       "    <tr>\n",
       "      <th>862</th>\n",
       "      <td>Zirakpur/S/Vihar</td>\n",
       "      <td>3.71</td>\n",
       "    </tr>\n",
       "    <tr>\n",
       "      <th>863</th>\n",
       "      <td>Zirakpur (Up)</td>\n",
       "      <td>3.64</td>\n",
       "    </tr>\n",
       "  </tbody>\n",
       "</table>\n",
       "<p>864 rows × 2 columns</p>\n",
       "</div>"
      ],
      "text/plain": [
       "                    Name  Nearest_Distance\n",
       "0      10/16 ART GALLERY              0.00\n",
       "1    12/11 (Rally Chowk)              0.00\n",
       "2      16/10 ROSE GARDEN              0.00\n",
       "3               17 chowk              0.00\n",
       "4        39 Grain Market              0.00\n",
       "..                   ...               ...\n",
       "859     YPS/Sector 61/52              1.47\n",
       "860   Zirakpur Bus Stand              3.61\n",
       "861      Zirakpur (Down)              3.55\n",
       "862     Zirakpur/S/Vihar              3.71\n",
       "863        Zirakpur (Up)              3.64\n",
       "\n",
       "[864 rows x 2 columns]"
      ]
     },
     "execution_count": 17,
     "metadata": {},
     "output_type": "execute_result"
    }
   ],
   "source": [
    "def nearest_distance(cleaned_data):\n",
    "    dist = None\n",
    "    try:\n",
    "        dist = float(cleaned_data[0]['distance'])\n",
    "    finally:\n",
    "        return dist\n",
    "\n",
    "df[\"Nearest_Distance\"] = df[\"Cleaned_Data\"].apply(nearest_distance)\n",
    "df[[\"Name\", \"Nearest_Distance\"]]"
   ]
  },
  {
   "cell_type": "code",
   "execution_count": 21,
   "metadata": {},
   "outputs": [
    {
     "data": {
      "text/plain": [
       "732"
      ]
     },
     "execution_count": 21,
     "metadata": {},
     "output_type": "execute_result"
    }
   ],
   "source": [
    "df[df[\"Nearest_Distance\"] != 0].shape[0]"
   ]
  },
  {
   "cell_type": "code",
   "execution_count": 22,
   "metadata": {},
   "outputs": [
    {
     "data": {
      "text/plain": [
       "Index(['Name', 'Request', 'Cleaned_Data', 'Is_Valid_Stop', 'Nearest_Distance'], dtype='object')"
      ]
     },
     "execution_count": 22,
     "metadata": {},
     "output_type": "execute_result"
    }
   ],
   "source": [
    "df.columns"
   ]
  },
  {
   "cell_type": "code",
   "execution_count": 23,
   "metadata": {},
   "outputs": [
    {
     "data": {
      "text/plain": [
       "732"
      ]
     },
     "execution_count": 23,
     "metadata": {},
     "output_type": "execute_result"
    }
   ],
   "source": [
    "df[\"Is_Valid_Stop\"].isna().sum()"
   ]
  },
  {
   "cell_type": "code",
   "execution_count": 24,
   "metadata": {},
   "outputs": [],
   "source": [
    "def extract_coords(row):\n",
    "    if row[\"Is_Valid_Stop\"] and isinstance(row[\"Cleaned_Data\"], list) and len(row[\"Cleaned_Data\"]) > 0:\n",
    "        first_entry = row[\"Cleaned_Data\"][0]\n",
    "        return (first_entry[\"center_lat\"], first_entry[\"center_lon\"])\n",
    "    return None\n",
    "\n",
    "# Apply function to create the new column\n",
    "df[\"Coords\"] = df.apply(extract_coords, axis=1)"
   ]
  },
  {
   "cell_type": "code",
   "execution_count": 25,
   "metadata": {},
   "outputs": [
    {
     "data": {
      "text/plain": [
       "732"
      ]
     },
     "execution_count": 25,
     "metadata": {},
     "output_type": "execute_result"
    }
   ],
   "source": [
    "df[\"Coords\"].isna().sum()"
   ]
  },
  {
   "cell_type": "code",
   "execution_count": 26,
   "metadata": {},
   "outputs": [],
   "source": [
    "df[\"lat\"] = df[\"Coords\"].apply(lambda coords: coords[0] if coords else None)\n",
    "df[\"long\"] = df[\"Coords\"].apply(lambda coords: coords[1] if coords else None)"
   ]
  },
  {
   "cell_type": "code",
   "execution_count": 27,
   "metadata": {},
   "outputs": [],
   "source": [
    "df.to_csv(\"/Users/suraj/Library/CloudStorage/OneDrive-PlakshaUniversity/Classes/Sem4/ILGC04/ILGC04_Code/scarping_scripts/scarped_data/cleaned_bus_stops_locations.csv\")"
   ]
  },
  {
   "cell_type": "markdown",
   "metadata": {},
   "source": [
    "^ Problem with this is that some stops are clubed like sector 21/22 Aroma and 22/21 Aroma are clubbed as Aroma in the 0th row of the request.\n",
    "\n",
    "I'll try to go through every row and if i see a bus stop I haven't seen then I'll add it to the table"
   ]
  },
  {
   "cell_type": "code",
   "execution_count": 28,
   "metadata": {},
   "outputs": [],
   "source": [
    "bus_stops = {\n",
    "    \"name\": [],\n",
    "    \"lat\": [],\n",
    "    \"long\": []\n",
    "}"
   ]
  },
  {
   "cell_type": "code",
   "execution_count": 30,
   "metadata": {},
   "outputs": [],
   "source": [
    "df = pd.read_csv(\"/Users/suraj/Library/CloudStorage/OneDrive-PlakshaUniversity/Classes/Sem4/ILGC04/ILGC04_Code/scarping_scripts/scarped_data/cleaned_bus_stops_locations.csv\")"
   ]
  },
  {
   "cell_type": "code",
   "execution_count": 37,
   "metadata": {},
   "outputs": [
    {
     "data": {
      "text/plain": [
       "{'rowno': 1,\n",
       " 'routeid': 5470,\n",
       " 'stationid': 605,\n",
       " 'stationname': '10/16  ART GALLERY',\n",
       " 'stationname_m': '10/16  ART GALLERY',\n",
       " 'center_lat': 30.74824,\n",
       " 'center_lon': 76.78451,\n",
       " 'routenames': 'Towards ISBT 43',\n",
       " 'routenames_m': 'Towards आई.एस.बी.टी. 43',\n",
       " 'routeno': '4C',\n",
       " 'distance': '0.00',\n",
       " 'totalminute': '0',\n",
       " 'combinestationroute': '10/16  ART GALLERY  : Towards ISBT 43',\n",
       " 'totalstops': '10'}"
      ]
     },
     "execution_count": 37,
     "metadata": {},
     "output_type": "execute_result"
    }
   ],
   "source": [
    "ast.literal_eval(df[\"Cleaned_Data\"].iloc[0])[0]"
   ]
  },
  {
   "cell_type": "code",
   "execution_count": 41,
   "metadata": {},
   "outputs": [
    {
     "name": "stdout",
     "output_type": "stream",
     "text": [
      "nan\n",
      "nan\n",
      "nan\n",
      "nan\n",
      "nan\n",
      "nan\n",
      "nan\n",
      "nan\n",
      "nan\n",
      "nan\n",
      "nan\n",
      "nan\n",
      "nan\n",
      "nan\n",
      "nan\n",
      "nan\n",
      "nan\n",
      "nan\n",
      "nan\n"
     ]
    }
   ],
   "source": [
    "for cleaned_request in df[\"Cleaned_Data\"]:\n",
    "    try:\n",
    "        cleaned_request = ast.literal_eval(cleaned_request)\n",
    "        for row in cleaned_request:\n",
    "            if row['stationname'] not in bus_stops['name']:\n",
    "                bus_stops['name'].append(row['stationname'])\n",
    "                bus_stops['lat'].append(row['center_lat'])\n",
    "                bus_stops['long'].append(row['center_lon'])\n",
    "    except:\n",
    "        print(cleaned_request)"
   ]
  },
  {
   "cell_type": "code",
   "execution_count": 45,
   "metadata": {},
   "outputs": [
    {
     "name": "stdout",
     "output_type": "stream",
     "text": [
      "530\n",
      "530\n",
      "530\n"
     ]
    }
   ],
   "source": [
    "print(len(bus_stops[\"name\"]))\n",
    "print(len(bus_stops[\"lat\"]))\n",
    "print(len(bus_stops[\"long\"]))"
   ]
  },
  {
   "cell_type": "code",
   "execution_count": 46,
   "metadata": {},
   "outputs": [],
   "source": [
    "bus_stops_df = pd.DataFrame(bus_stops)\n",
    "bus_stops_df.to_csv(\"/Users/suraj/Library/CloudStorage/OneDrive-PlakshaUniversity/Classes/Sem4/ILGC04/ILGC04_Code/scarping_scripts/scarped_data/final_locations.csv\")"
   ]
  }
 ],
 "metadata": {
  "kernelspec": {
   "display_name": "ilgc",
   "language": "python",
   "name": "python3"
  },
  "language_info": {
   "codemirror_mode": {
    "name": "ipython",
    "version": 3
   },
   "file_extension": ".py",
   "mimetype": "text/x-python",
   "name": "python",
   "nbconvert_exporter": "python",
   "pygments_lexer": "ipython3",
   "version": "3.11.11"
  }
 },
 "nbformat": 4,
 "nbformat_minor": 2
}
